{
 "cells": [
  {
   "cell_type": "code",
   "execution_count": 1,
   "metadata": {
    "collapsed": true
   },
   "outputs": [],
   "source": [
    "import numpy as np\n",
    "import matplotlib as mpl\n",
    "import matplotlib.pyplot as plt\n",
    "import illustrisAPI.data as iApi\n",
    "%matplotlib inline"
   ]
  },
  {
   "cell_type": "code",
   "execution_count": 2,
   "metadata": {
    "collapsed": true
   },
   "outputs": [],
   "source": [
    "def getData(snap):\n",
    "    fileName='full_data/FullData_Snap.'+str(snap)+'.txt'\n",
    "    fieldwidth = 16\n",
    "    numfields = 5\n",
    "    #data with gaps\n",
    "    borkedData=np.genfromtxt(fileName,delimiter=(fieldwidth,)*numfields)\n",
    "    #each part of the rows of data\n",
    "    a=borkedData[::4,:]\n",
    "    b=borkedData[1::4,:]\n",
    "    c=borkedData[2::4,:]\n",
    "    d=borkedData[3::4,:3]\n",
    "    nGal=np.shape(a)[0]\n",
    "    #extra space for new data we're adding\n",
    "    e=np.zeros((nGal,6))\n",
    "    data=np.hstack([a,b,c,d,e])\n",
    "    return data\n",
    "def getHistory(sub):\n",
    "    passFail=1\n",
    "    fileName='feedback/data/AccHistory/AccHistInt_SubGr.'+str(int(sub))+'.txt'\n",
    "    fieldwidth = 16\n",
    "    numfields = 5\n",
    "    #data with gaps\n",
    "    borkedHistory=np.genfromtxt(fileName,delimiter=(fieldwidth,)*numfields)\n",
    "    a=borkedHistory[::4,:]\n",
    "    b=borkedHistory[1::4,:]\n",
    "    c=borkedHistory[2::4,:]\n",
    "    d=borkedHistory[3::4,:1]\n",
    "    if (d.shape[0]==0):\n",
    "        #print('sub: ',sub,' is weird, skipping...')\n",
    "        return np.zeros(1)\n",
    "    history=np.hstack([a,b,c,d])\n",
    "    return history"
   ]
  },
  {
   "cell_type": "code",
   "execution_count": 41,
   "metadata": {
    "scrolled": true
   },
   "outputs": [
    {
     "name": "stdout",
     "output_type": "stream",
     "text": [
      "starting snap:  135\n"
     ]
    }
   ],
   "source": [
    "nSkips=0\n",
    "nSkipsAlt=0\n",
    "z0data=getData(135)\n",
    "z0subs=z0data[:,1]\n",
    "for snap in range(135,136):\n",
    "    print('starting snap: ',snap)\n",
    "    zData=getData(snap)\n",
    "    \n",
    "    mBh=iApi.getSubhaloField('SubhaloBHMass',snapshot=snap,simulation='Illustris-1')\n",
    "    mDotBh=iApi.getSubhaloField('SubhaloBHMdot',snapshot=snap,simulation='Illustris-1')\n",
    "    sfr=iApi.getSubhaloField('SubhaloSFR',snapshot=snap,simulation='Illustris-1')\n",
    "    \n",
    "    zData[:,18]=mBh[zData[:,1].astype(int)]*0.719 #sim units as 10^10 M_odot /h -> 10^10 M_odot\n",
    "    zData[:,19]=mDotBh[zData[:,1].astype(int)]*0.978#sim units as 10^10 M_odot /h (0.978 Gyr/h) -> 10^10 M_odot / Gyr\n",
    "    zData[:,20]=sfr[zData[:,1].astype(int)]/10#sim units as M_odot/yr -> 10^10 M_odot / Gyr\n",
    "    zData[:,21]=-1*np.ones(np.shape(zData)[0]) #initializing these values as -1\n",
    "    zData[:,22]=-1*np.ones(np.shape(zData)[0])\n",
    "    zData[:,23]=-1*np.ones(np.shape(zData)[0])\n",
    "    \n",
    "    zSubs=zData[:,1]\n",
    "    history=getHistory(0)\n",
    "    for sub in z0subs:\n",
    "        history=getHistory(sub)\n",
    "        if (history.size==1):\n",
    "            continue\n",
    "        thisEntry=np.argwhere((history[:,0]==0) & (history[:,1]==snap))\n",
    "        if (thisEntry.size==0):\n",
    "            nSkips+=1\n",
    "            continue\n",
    "        thisSub=int(history[thisEntry,4])\n",
    "        zEntry=np.argwhere(zSubs==thisSub)\n",
    "        zData[zEntry,21]=sub\n",
    "        if (snap<135):\n",
    "            nextEntry=np.argwhere((history[:,0]==0) & (history[:,1]==snap+1))\n",
    "            if (nextEntry.size==0):\n",
    "                nSkipsAlt+=1\n",
    "                continue\n",
    "            nextSub=history[nextEntry,4]\n",
    "            zData[zEntry,22]=nextSub\n",
    "        if (snap>85):\n",
    "            prevEntry=np.argwhere((history[:,0]==0) & (history[:,1]==snap-1))\n",
    "            if (prevEntry.size==0):\n",
    "                nSkipsAlt+=1\n",
    "                continue\n",
    "            prevSub=history[prevEntry,4]\n",
    "            zData[zEntry,23]=prevSub\n",
    "    saveName='feedback/data/GalaxyData/GalaxyData_Snap.'+str(snap)+'.txt'\n",
    "    np.savetxt(saveName,zData)"
   ]
  },
  {
   "cell_type": "code",
   "execution_count": 18,
   "metadata": {},
   "outputs": [
    {
     "name": "stdout",
     "output_type": "stream",
     "text": [
      "6\n",
      "12\n"
     ]
    }
   ],
   "source": [
    "print(nSkips)\n",
    "print(nSkipsAlt)"
   ]
  }
 ],
 "metadata": {
  "kernelspec": {
   "display_name": "Python [default]",
   "language": "python",
   "name": "python3"
  },
  "language_info": {
   "codemirror_mode": {
    "name": "ipython",
    "version": 3
   },
   "file_extension": ".py",
   "mimetype": "text/x-python",
   "name": "python",
   "nbconvert_exporter": "python",
   "pygments_lexer": "ipython3",
   "version": "3.5.2"
  }
 },
 "nbformat": 4,
 "nbformat_minor": 2
}
