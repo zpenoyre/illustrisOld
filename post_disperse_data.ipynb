{
 "cells": [
  {
   "cell_type": "code",
   "execution_count": 11,
   "metadata": {
    "collapsed": true
   },
   "outputs": [],
   "source": [
    "# Import libaries and illustris library\n",
    "import numpy as np\n",
    "import illustris_python as il\n",
    "import matplotlib.pyplot as plt\n",
    "%matplotlib inline\n",
    "import random"
   ]
  },
  {
   "cell_type": "code",
   "execution_count": null,
   "metadata": {
    "collapsed": true
   },
   "outputs": [],
   "source": [
    "#\n",
    "# everything in units of h! (h= 0.7)\n",
    "#"
   ]
  },
  {
   "cell_type": "code",
   "execution_count": 12,
   "metadata": {
    "collapsed": true
   },
   "outputs": [],
   "source": [
    "# load data of citical points and segments from DisPerSE output\n",
    "\n",
    "crits_file = './data/disperse/il_1_snap_135_subhalo_mask_75k75k19k.txt.NDnet_s5.97.up.NDskl.S500.BRK.ASMB.a.crits.txt'\n",
    "crits_pos = np.loadtxt(crits_file, comments='#')[:,0:3]/0.7\n",
    "\n",
    "segs_file = './data/disperse/il_1_snap_135_subhalo_mask_75k75k19k.txt.NDnet_s5.97.up.NDskl.S500.BRK.ASMB.a.segs.txt'\n",
    "segs_pos = np.loadtxt(segs_file, comments='#')[:,0:3]/0.7\n",
    "#print crits_pos, segs_pos, crits_pos.shape, segs_pos.shape"
   ]
  },
  {
   "cell_type": "code",
   "execution_count": 16,
   "metadata": {
    "collapsed": true
   },
   "outputs": [],
   "source": [
    "# load file with basic information:\n",
    "# 0:HaloNumber, 1:SubhaloNumber, 2:StellarMass, 3:GasMass, 4:DarkMatterMass, 5-7:SubhaloPosition x,y,z\n",
    "# 8-10:CoM Velocity x, CoM Velocity y, CoM Velocity z, 11-13:AngularMomentum x, AngularMomentum y, AngularMomentum z, \n",
    "# 14:Kappa, 15:Flatness, 16:Ellip, 17:Lambda\n",
    "\n",
    "galaxy_file = './data/illustris/galaxyData_zeph_Il1_snap135.txt'\n",
    "galaxies = np.genfromtxt(galaxy_file, comments='#')"
   ]
  },
  {
   "cell_type": "code",
   "execution_count": 47,
   "metadata": {
    "collapsed": true
   },
   "outputs": [],
   "source": [
    "# make_mask function takes position data\n",
    "# pos_start is  index of first column with position data, s1-3 is box size constraints\n",
    "\n",
    "# input: data: array 3 columns with x,y,z position\n",
    "#        pos_start: first column index of position data in arrray\n",
    "#        s1-3: box cutoff numbers\n",
    "\n",
    "# output: binary mask with 1 or 0 for position whether it is in s1,s2,s3 or not\n",
    "\n",
    "def make_mask(data, pos_start, s1, s2, s3):\n",
    "    #create mask to constrain positions to within s1,s2,s3\n",
    "    mask= ((data[:,pos_start] < s1) & (data[:,pos_start+1] < s2) & (data[:,pos_start+2] < s3)) \n",
    "    \n",
    "    #return values that are within the s1-3 limit\n",
    "    data_mask = data[mask]\n",
    "    return data_mask"
   ]
  },
  {
   "cell_type": "code",
   "execution_count": 52,
   "metadata": {
    "collapsed": false
   },
   "outputs": [],
   "source": [
    "#calulate distance to a point:\n",
    "\n",
    "#input: subhalo_mask: position of particles in column matrix x,y,z position\n",
    "#        fil_pos_mat: position of filaments in column matrix x,y,z position\n",
    "\n",
    "#output: array: 1st column is index of filament row that is nearest to particle. 2nd column is absolute distance\n",
    "\n",
    "def distance_function(subhalo_mask, fil_pos_mat):\n",
    "    \n",
    "    #initialize number of columns in input file and number of steps to print\n",
    "    subhalo_mask_size = subhalo_mask.shape[0]\n",
    "    steps = max((subhalo_mask_size)/4,1)\n",
    "    \n",
    "    # create distance matrix - 2 columns for data \n",
    "    distance_mat = np.zeros(((subhalo_mask_size), 2))\n",
    "    \n",
    "    # enter for-loop which goes over the size of the rows of the position matrix \n",
    "    for i in range(0, subhalo_mask_size):\n",
    "        \n",
    "        #calculate raw position difference for 1 particle with ALL filament positions\n",
    "        min_array = fil_pos_mat - subhalo_mask[i,0:3]\n",
    "        \n",
    "        #calculate actual distance\n",
    "        min_dis = np.sqrt( (min_array*min_array).sum(axis=1) )\n",
    "        \n",
    "        #find minimum - i.e. nearest filament to particle\n",
    "        min_index = np.argmin(min_dis, axis=0)\n",
    "        \n",
    "        #for each particle give index of filament point that is nearest and it´s absolute distance\n",
    "        distance_mat[i,0] = min_index     \n",
    "        distance_mat[i,1] = min_dis[min_index]\n",
    "        \n",
    "        if (i%steps == 0):\n",
    "            print (\"distane_function done with\", (i/steps+1) *25,\"%\")\n",
    "\n",
    "    # return the distance matrix\n",
    "    return distance_mat"
   ]
  },
  {
   "cell_type": "code",
   "execution_count": 58,
   "metadata": {
    "collapsed": true
   },
   "outputs": [],
   "source": [
    "#calulate aligment of spin vector:\n",
    "\n",
    "#input distance_mat: index of nearest segment point, distance, x,y,z of angular momentum vector) \n",
    "#       fil_pos_mat: column matrix x,y,z position\n",
    "\n",
    "#output: array: 1st column is index of filament row that is nearest to particle. 2nd column is absolute distance, \n",
    "#                                              3rd is dot product of angular momentum vector with segment vector\n",
    "\n",
    "def align_function(distance_mat, fil_pos_mat):\n",
    "    \n",
    "    #initialize number of columns in input file and number of steps to print\n",
    "    distance_mat_size = distance_mat.shape[0]\n",
    "    #steps = max((distance_mat_size)/4,1)\n",
    "    \n",
    "    #create align matrix - 3 columns for data \n",
    "    align_mat = np.zeros(((distance_mat_size), 3))\n",
    "    \n",
    "    # enter for-loop which goes over the size of the rows of the position matrix \n",
    "    for i in range(0, distance_mat_size):\n",
    "        \n",
    "        #calculate vector segment is pointing in (+1 from index in distance_mat to -1)\n",
    "        fil_vec = fil_pos_mat[(int(distance_mat[i,0]) +1),0:3] - fil_pos_mat[(int(distance_mat[i,0]) -1),0:3]\n",
    "        \n",
    "        #get angular mom. vector of galaxy\n",
    "        gal_vec = distance_mat[i,2:5]\n",
    "        \n",
    "        #calculate size\n",
    "        fil_vec_size = np.sqrt( (fil_vec*fil_vec).sum(axis=0) )\n",
    "        gal_vec_size = np.sqrt( (gal_vec*gal_vec).sum(axis=0) )\n",
    "        \n",
    "        align_mat[i,0] = distance_mat[i,0]\n",
    "        align_mat[i,1] = distance_mat[i,1]\n",
    "        \n",
    "        align_mat[i,2] = abs(((fil_vec*gal_vec).sum(axis=0))/(fil_vec_size * gal_vec_size))\n",
    "\n",
    "        #if (i%steps == 0):\n",
    "         #   print \"done with\", i/steps *25,\"%\"\n",
    "\n",
    "    # return the distance matrix \n",
    "    return align_mat"
   ]
  },
  {
   "cell_type": "code",
   "execution_count": 53,
   "metadata": {
    "collapsed": false
   },
   "outputs": [
    {
     "name": "stdout",
     "output_type": "stream",
     "text": [
      "distane_function done with 25.0 %\n",
      "distane_function done with 50.0 %\n",
      "distane_function done with 75.0 %\n",
      "distane_function done with 100.0 %\n",
      "distane_function done with 25.0 %\n",
      "distane_function done with 50.0 %\n",
      "distane_function done with 75.0 %\n",
      "distane_function done with 100.0 %\n"
     ]
    }
   ],
   "source": [
    "# filter galaxy data through mask and compute distance\n",
    "# putting everything in units of h! (the inital file is) (h= 0.7)\n",
    "\n",
    "index_pos_data = 5\n",
    "galaxy_pos_mask = make_mask(galaxies, index_pos_data, 75000/0.7, 75000/0.7, 0.19*75000/0.7)\n",
    "\n",
    "galaxies_positions = galaxy_pos_mask[:,5:8]\n",
    "\n",
    "galaxy_segs_distance_mat = distance_function(galaxies_positions, segs_pos)\n",
    "galaxy_crits_distance_mat = distance_function(galaxies_positions, crits_pos)"
   ]
  },
  {
   "cell_type": "code",
   "execution_count": 59,
   "metadata": {
    "collapsed": false
   },
   "outputs": [
    {
     "name": "stdout",
     "output_type": "stream",
     "text": [
      "(724, 21)\n"
     ]
    }
   ],
   "source": [
    "# Add the output of the distance function to the end of the matrix\n",
    "# 0:HaloNumber, 1:SubhaloNumber, 2:StellarMass, 3:GasMass, 4:DarkMatterMass, 5-7:SubhaloPosition x,y,z\n",
    "# 8-10:CoM Velocity x, CoM Velocity y, CoM Velocity z, 11-13:AngularMomentum x, AngularMomentum y, AngularMomentum z, \n",
    "# 14:Kappa, 15:Flatness, 16:Ellip, 17:Lambda 18: Index of segment/critical point, 19:absolute distance to filament\n",
    "\n",
    "galaxy_crits_joined = np.concatenate(( galaxy_pos_mask[:,:], galaxy_crits_distance_mat[:,:]),axis=1)\n",
    "\n",
    "galaxy_segs_joined = np.concatenate(( galaxy_pos_mask[:,:], galaxy_segs_distance_mat[:,:]), axis=1)"
   ]
  },
  {
   "cell_type": "code",
   "execution_count": null,
   "metadata": {
    "collapsed": true
   },
   "outputs": [],
   "source": [
    "# create matrix for align function input\n",
    "\n",
    "galaxy_segs_vec = galaxy_segs_joined[:,[18,19,11,12,13]]\n",
    "\n",
    "gal_align_segs = align_function(galaxy_segs_vec, segs_pos)\n",
    "\n",
    "# Add: 20:dot product ang. mom. vec. with filament vec.\n",
    "galaxy_segs_data = np.concatenate((galaxy_segs_joined[:,:], gal_align_segs[:,2:3]), axis=1)"
   ]
  },
  {
   "cell_type": "code",
   "execution_count": 128,
   "metadata": {
    "collapsed": false
   },
   "outputs": [],
   "source": [
    "# 0:HaloNumber, 1:SubhaloNumber, 2:StellarMass, 3:GasMass, 4:DarkMatterMass, 5-7:SubhaloPosition x,y,z\n",
    "# 8-10:CoM Velocity x, CoM Velocity y, CoM Velocity z, 11-13:AngularMomentum x, AngularMomentum y, AngularMomentum z, \n",
    "# 14:Kappa, 15:Flatness, 16:Ellip, 17:Lambda 18: Index of segment/critical point, 19:absolute distance to filament, \n",
    "# 20:dot product ang. mom. vec. with filament vec. 21-23: nearest segement coordinates 24: Index of nearest critical point, \n",
    "# 25: absolute distanceto crit., 26-28: nearest critical point coordinates\n",
    "galaxy_data = np.zeros(((galaxy_segs_data.shape[0]), 29))\n",
    "\n",
    "for i in range (0,galaxy_segs_data.shape[0]):\n",
    "    galaxy_data[i,0:21] = galaxy_segs_data[i,:]\n",
    "    galaxy_data[i,21:24] = segs_pos[int(galaxy_segs_data[i,18]),:]\n",
    "    galaxy_data[i,24:26] = galaxy_crits_distance_mat[i,:]\n",
    "    galaxy_data[i,26:29] = crits_pos[int(galaxy_data[i,24]),:]"
   ]
  },
  {
   "cell_type": "code",
   "execution_count": 129,
   "metadata": {
    "collapsed": false
   },
   "outputs": [
    {
     "data": {
      "text/plain": [
       "(724, 29)"
      ]
     },
     "execution_count": 129,
     "metadata": {},
     "output_type": "execute_result"
    }
   ],
   "source": [
    "galaxy_data.shape"
   ]
  },
  {
   "cell_type": "code",
   "execution_count": 131,
   "metadata": {
    "collapsed": true
   },
   "outputs": [],
   "source": [
    "np.savetxt('./data/galaxy_data_1.txt', galaxy_data, delimiter =' ', \n",
    "           header = '0:HaloNumber, 1:SubhaloNumber, 2:StellarMass, 3:GasMass, 4:DarkMatterMass, 5-7:SubhaloPosition x, SubhaloPosition y, SubhaloPosition z, 8-10:CoM Velocity x, CoM Velocity y, CoM Velocity z, 11-13:AngularMomentum x, AngularMomentum y, AngularMomentum z, 14:Kappa, 15:Flatness, 16:Ellip, 17:Lambda, 18: Index of nearest segment, 19:absolute distance from galaxy to nearest segment point 20:dot product of angular momentum vector with segment vector 21-23: nearest segement coordinates 24: Index of nearest critical point, 25: absolute distance from galaxy to nearest critical point 26-28: nearest critical point coordinates'\n",
    "           )"
   ]
  },
  {
   "cell_type": "code",
   "execution_count": null,
   "metadata": {
    "collapsed": true
   },
   "outputs": [],
   "source": []
  },
  {
   "cell_type": "code",
   "execution_count": null,
   "metadata": {
    "collapsed": true
   },
   "outputs": [],
   "source": []
  }
 ],
 "metadata": {
  "kernelspec": {
   "display_name": "Python 3",
   "language": "python",
   "name": "python3"
  },
  "language_info": {
   "codemirror_mode": {
    "name": "ipython",
    "version": 3
   },
   "file_extension": ".py",
   "mimetype": "text/x-python",
   "name": "python",
   "nbconvert_exporter": "python",
   "pygments_lexer": "ipython3",
   "version": "3.6.0"
  }
 },
 "nbformat": 4,
 "nbformat_minor": 0
}
