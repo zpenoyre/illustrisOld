{
 "cells": [
  {
   "cell_type": "code",
   "execution_count": 4,
   "metadata": {
    "collapsed": false
   },
   "outputs": [],
   "source": [
    "# Import libaries and illustris library\n",
    "import numpy as np\n",
    "import illustris_python as il\n",
    "import matplotlib.pyplot as plt\n",
    "%matplotlib inline\n",
    "import random"
   ]
  },
  {
   "cell_type": "code",
   "execution_count": 5,
   "metadata": {
    "collapsed": true
   },
   "outputs": [],
   "source": [
    "# Import Illustris data, specifying file path and snap\n",
    "\n",
    "basePath = '/Users/alex/Illustris/Illustris-1'\n",
    "snap = 135\n",
    "#gpc_fields = ['GroupMass','GroupCM']\n",
    "#gpc_data = il.groupcat.loadHalos(basePath,snap,fields=gpc_fields)"
   ]
  },
  {
   "cell_type": "code",
   "execution_count": 6,
   "metadata": {
    "collapsed": false
   },
   "outputs": [],
   "source": [
    "# Load data to be used\n",
    "subhalo_fields = ['SubhaloCM', 'SubhaloMass']\n",
    "subhalo_data = il.groupcat.loadSubhalos(basePath,135,fields=subhalo_fields)\n",
    "\n",
    "# Define data fields, load these data fields into arrays and concatenate arrays into simple matrix\n",
    "subhalo_data_joined = np.concatenate((subhalo_data['SubhaloCM'], \n",
    "                                      np.expand_dims(subhalo_data['SubhaloMass'], 0).T), axis=1)"
   ]
  },
  {
   "cell_type": "code",
   "execution_count": null,
   "metadata": {
    "collapsed": true
   },
   "outputs": [],
   "source": [
    "# Save illustris data in survey_ascii format, to be used with DisPerSE\n",
    "np.savetxt(\"/Users/alex/Documents/Research/Astro/vm_share1/il_1_snap_135_posdata.txt\",\n",
    "           subhalo_joined_data, header=\"px,py,pz,m\", fmt='%f,%f,%f,%f')"
   ]
  },
  {
   "cell_type": "code",
   "execution_count": null,
   "metadata": {
    "collapsed": true
   },
   "outputs": [],
   "source": [
    "#\n",
    "#create cutoff of illustris data (i.e. smaller universe box) and output data to be used for DisPerSE\n",
    "#"
   ]
  },
  {
   "cell_type": "code",
   "execution_count": 7,
   "metadata": {
    "collapsed": true
   },
   "outputs": [],
   "source": [
    "# make_mask function takes position data\n",
    "# pos_start is  index of first column with position data, s1-3 is box size constraints\n",
    "\n",
    "# input: data: array 3 columns with x,y,z position\n",
    "#        pos_start: first column index of position data in arrray\n",
    "#        s1-3: box cutoff numbers\n",
    "\n",
    "# output: binary mask with 1 or 0 for position whether it is in s1,s2,s3 or not\n",
    "\n",
    "def make_mask(data, pos_start, s1, s2, s3):\n",
    "    #create mask to constrain positions to within s1,s2,s3\n",
    "    mask= ((data[:,pos_start] < s1) & (data[:,pos_start+1] < s2) & (data[:,pos_start+2] < s3)) \n",
    "    \n",
    "    #return values that are within the s1-3 limit\n",
    "    data_mask = data[mask]\n",
    "    return data_mask"
   ]
  },
  {
   "cell_type": "code",
   "execution_count": 8,
   "metadata": {
    "collapsed": true
   },
   "outputs": [],
   "source": [
    "#cut of data accorging to mask of limited size\n",
    "size = 75000\n",
    "subhalo_data__joined_mask = make_mask(subhalo_data_joined, 0, size, size, 0.25*size)"
   ]
  },
  {
   "cell_type": "code",
   "execution_count": null,
   "metadata": {
    "collapsed": true
   },
   "outputs": [],
   "source": [
    "# Save data in survey_ascii format, to be used with DisPerSE\n",
    "np.savetxt(\"/Users/alex/Documents/Research/Astro/vm_share1/il_1_snap_135_posdata.txt\",\n",
    "           subhalo_joined_data, header=\"px,py,pz,m\", fmt='%f,%f,%f,%f')\n",
    "\n",
    "np.savetxt('/Users/alex/Desktop/Astro/vm_share1/il_1_snap_135_subhalo_mask_75k75k19k.txt',\n",
    "           subhalo_joined_data_mask[:,0:3], delimiter =' ', header = 'px py pz')"
   ]
  },
  {
   "cell_type": "code",
   "execution_count": null,
   "metadata": {
    "collapsed": true
   },
   "outputs": [],
   "source": []
  }
 ],
 "metadata": {
  "kernelspec": {
   "display_name": "Python 2",
   "language": "python",
   "name": "python2"
  },
  "language_info": {
   "codemirror_mode": {
    "name": "ipython",
    "version": 2
   },
   "file_extension": ".py",
   "mimetype": "text/x-python",
   "name": "python",
   "nbconvert_exporter": "python",
   "pygments_lexer": "ipython2",
   "version": "2.7.11"
  }
 },
 "nbformat": 4,
 "nbformat_minor": 0
}
