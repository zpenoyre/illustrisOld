{
 "cells": [
  {
   "cell_type": "code",
   "execution_count": 2,
   "metadata": {
    "collapsed": false
   },
   "outputs": [],
   "source": [
    "# Import libaries and illustris library\n",
    "import numpy as np\n",
    "import illustris_python as il\n",
    "import matplotlib.pyplot as plt\n",
    "%matplotlib inline\n",
    "import random\n",
    "import subroutines.distance as df"
   ]
  },
  {
   "cell_type": "markdown",
   "metadata": {
    "collapsed": true
   },
   "source": [
    "# everything in units of h! (h= 0.7)"
   ]
  },
  {
   "cell_type": "code",
   "execution_count": 5,
   "metadata": {
    "collapsed": false
   },
   "outputs": [],
   "source": [
    "# load data of citical points and segments from DisPerSE output\n",
    "crits_file = '/Users/alex/Documents/Research/Astro/vm_shared_folder_v2/il_1_snap_135_posdata_halo_mass_cutoff.txt.NDnet_c5.07e-07.up.NDskl.a.crits'\n",
    "crits = np.loadtxt(crits_file, comments='#')[:,0:5]\n",
    "crits_max = crits[crits[:,4]>2][:,0:3]/0.7\n",
    "crits_pos = crits_max\n",
    "\n",
    "segs_file = '/Users/alex/Documents/Research/Astro/vm_shared_folder_v2/il_1_snap_135_posdata_halo_mass_cutoff.txt.NDnet_s2.02.up.NDskl.BRK.S1000.a.segs'\n",
    "segs_pos = np.loadtxt(segs_file, comments='#')[:,0:3]/0.7\n",
    "\n",
    "halo_file_1 = \"/Users/alex/Documents/Research/Astro/vm_shared_folder_v2/il_1_snap_135_posdata_halo_mass_cutoff.txt\"\n",
    "halo_positions = np.loadtxt(halo_file_1, comments='#', delimiter=',')[:,0:3]/0.7\n",
    "halo_mass = np.loadtxt(halo_file_1, comments='#', delimiter=',')[:,3]"
   ]
  },
  {
   "cell_type": "code",
   "execution_count": 6,
   "metadata": {
    "collapsed": false
   },
   "outputs": [],
   "source": [
    "# load file with basic information:\n",
    "# 0:HaloNumber, 1:SubhaloNumber, 2:StellarMass, 3:GasMass, 4:DarkMatterMass, 5-7:SubhaloPosition x,y,z\n",
    "# 8-10:CoM Velocity x, CoM Velocity y, CoM Velocity z, 11-13:AngularMomentum x, AngularMomentum y, AngularMomentum z, \n",
    "# 14:Kappa, 15:Flatness, 16:Ellip, 17:Lambda\n",
    "\n",
    "galaxy_file = './data/illustris_data/galaxyData_zeph_Il1_snap135.txt'\n",
    "galaxies = np.genfromtxt(galaxy_file, comments='#')"
   ]
  },
  {
   "cell_type": "code",
   "execution_count": 9,
   "metadata": {
    "collapsed": false
   },
   "outputs": [],
   "source": [
    "# filter galaxy data through mask and compute distance\n",
    "# putting everything in units of h! (the inital file is) (h= 0.7)\n",
    "\n",
    "#index_pos_data = 5\n",
    "galaxies_positions = galaxies[:,5:8]"
   ]
  },
  {
   "cell_type": "code",
   "execution_count": 19,
   "metadata": {
    "collapsed": true
   },
   "outputs": [
    {
     "name": "stdout",
     "output_type": "stream",
     "text": [
      "distance_function done with 0.0 %\n",
      "distance_function done with 10.0 %\n",
      "distance_function done with 20.0 %\n",
      "distance_function done with 30.0 %\n",
      "distance_function done with 40.0 %\n",
      "distance_function done with 50.0 %\n",
      "distance_function done with 60.0 %\n",
      "distance_function done with 70.0 %\n",
      "distance_function done with 80.0 %\n",
      "distance_function done with 90.0 %\n",
      "distance_function done with 100.0 %\n"
     ]
    }
   ],
   "source": [
    "galaxy_segs_distance_mat = df.distance_function(galaxies_positions, segs_pos)"
   ]
  },
  {
   "cell_type": "code",
   "execution_count": 20,
   "metadata": {
    "collapsed": true
   },
   "outputs": [
    {
     "name": "stdout",
     "output_type": "stream",
     "text": [
      "distance_function done with 0.0 %\n",
      "distance_function done with 10.0 %\n",
      "distance_function done with 20.0 %\n",
      "distance_function done with 30.0 %\n",
      "distance_function done with 40.0 %\n",
      "distance_function done with 50.0 %\n",
      "distance_function done with 60.0 %\n",
      "distance_function done with 70.0 %\n",
      "distance_function done with 80.0 %\n",
      "distance_function done with 90.0 %\n",
      "distance_function done with 100.0 %\n"
     ]
    }
   ],
   "source": [
    "galaxy_crits_distance_mat = df.distance_function(galaxies_positions, crits_pos)"
   ]
  },
  {
   "cell_type": "code",
   "execution_count": 7,
   "metadata": {
    "collapsed": true
   },
   "outputs": [
    {
     "ename": "NameError",
     "evalue": "name 'galaxy_crits_distance_mat' is not defined",
     "output_type": "error",
     "traceback": [
      "\u001b[0;31m---------------------------------------------------------------------------\u001b[0m",
      "\u001b[0;31mNameError\u001b[0m                                 Traceback (most recent call last)",
      "\u001b[0;32m<ipython-input-7-d1f02f00f638>\u001b[0m in \u001b[0;36m<module>\u001b[0;34m()\u001b[0m\n\u001b[1;32m      4\u001b[0m \u001b[0;31m# 14:Kappa, 15:Flatness, 16:Ellip, 17:Lambda 18: Index of segment/critical point, 19:absolute distance to filament\u001b[0m\u001b[0;34m\u001b[0m\u001b[0;34m\u001b[0m\u001b[0m\n\u001b[1;32m      5\u001b[0m \u001b[0;34m\u001b[0m\u001b[0m\n\u001b[0;32m----> 6\u001b[0;31m \u001b[0mgalaxy_crits_joined\u001b[0m \u001b[0;34m=\u001b[0m \u001b[0mnp\u001b[0m\u001b[0;34m.\u001b[0m\u001b[0mconcatenate\u001b[0m\u001b[0;34m(\u001b[0m\u001b[0;34m(\u001b[0m \u001b[0mgalaxies\u001b[0m\u001b[0;34m[\u001b[0m\u001b[0;34m:\u001b[0m\u001b[0;34m,\u001b[0m\u001b[0;34m:\u001b[0m\u001b[0;34m]\u001b[0m\u001b[0;34m,\u001b[0m \u001b[0mgalaxy_crits_distance_mat\u001b[0m\u001b[0;34m[\u001b[0m\u001b[0;34m:\u001b[0m\u001b[0;34m,\u001b[0m\u001b[0;34m:\u001b[0m\u001b[0;34m]\u001b[0m\u001b[0;34m)\u001b[0m\u001b[0;34m,\u001b[0m\u001b[0maxis\u001b[0m\u001b[0;34m=\u001b[0m\u001b[0;36m1\u001b[0m\u001b[0;34m)\u001b[0m\u001b[0;34m\u001b[0m\u001b[0m\n\u001b[0m\u001b[1;32m      7\u001b[0m \u001b[0;34m\u001b[0m\u001b[0m\n\u001b[1;32m      8\u001b[0m \u001b[0mgalaxy_segs_joined\u001b[0m \u001b[0;34m=\u001b[0m \u001b[0mnp\u001b[0m\u001b[0;34m.\u001b[0m\u001b[0mconcatenate\u001b[0m\u001b[0;34m(\u001b[0m\u001b[0;34m(\u001b[0m \u001b[0mgalaxies\u001b[0m\u001b[0;34m[\u001b[0m\u001b[0;34m:\u001b[0m\u001b[0;34m,\u001b[0m\u001b[0;34m:\u001b[0m\u001b[0;34m]\u001b[0m\u001b[0;34m,\u001b[0m \u001b[0mgalaxy_segs_distance_mat\u001b[0m\u001b[0;34m[\u001b[0m\u001b[0;34m:\u001b[0m\u001b[0;34m,\u001b[0m\u001b[0;34m:\u001b[0m\u001b[0;34m]\u001b[0m\u001b[0;34m)\u001b[0m\u001b[0;34m,\u001b[0m \u001b[0maxis\u001b[0m\u001b[0;34m=\u001b[0m\u001b[0;36m1\u001b[0m\u001b[0;34m)\u001b[0m\u001b[0;34m\u001b[0m\u001b[0m\n",
      "\u001b[0;31mNameError\u001b[0m: name 'galaxy_crits_distance_mat' is not defined"
     ]
    }
   ],
   "source": [
    "# Add the output of the distance function to the end of the matrix\n",
    "# 0:HaloNumber, 1:SubhaloNumber, 2:StellarMass, 3:GasMass, 4:DarkMatterMass, 5-7:SubhaloPosition x,y,z\n",
    "# 8-10:CoM Velocity x, CoM Velocity y, CoM Velocity z, 11-13:AngularMomentum x, AngularMomentum y, AngularMomentum z, \n",
    "# 14:Kappa, 15:Flatness, 16:Ellip, 17:Lambda 18: Index of segment/critical point, 19:absolute distance to filament\n",
    "\n",
    "galaxy_crits_joined = np.concatenate(( galaxies[:,:], galaxy_crits_distance_mat[:,:]),axis=1)\n",
    "\n",
    "galaxy_segs_joined = np.concatenate(( galaxies[:,:], galaxy_segs_distance_mat[:,:]), axis=1)"
   ]
  },
  {
   "cell_type": "code",
   "execution_count": 8,
   "metadata": {
    "collapsed": true
   },
   "outputs": [
    {
     "ename": "NameError",
     "evalue": "name 'galaxy_segs_joined' is not defined",
     "output_type": "error",
     "traceback": [
      "\u001b[0;31m---------------------------------------------------------------------------\u001b[0m",
      "\u001b[0;31mNameError\u001b[0m                                 Traceback (most recent call last)",
      "\u001b[0;32m<ipython-input-8-a6465ffbee74>\u001b[0m in \u001b[0;36m<module>\u001b[0;34m()\u001b[0m\n\u001b[1;32m      1\u001b[0m \u001b[0;31m# create matrix for align function input\u001b[0m\u001b[0;34m\u001b[0m\u001b[0;34m\u001b[0m\u001b[0m\n\u001b[0;32m----> 2\u001b[0;31m \u001b[0mgal_align_segs\u001b[0m \u001b[0;34m=\u001b[0m \u001b[0mdf\u001b[0m\u001b[0;34m.\u001b[0m\u001b[0malign_function\u001b[0m\u001b[0;34m(\u001b[0m\u001b[0mgalaxy_segs_joined\u001b[0m\u001b[0;34m[\u001b[0m\u001b[0;34m:\u001b[0m\u001b[0;34m,\u001b[0m\u001b[0;36m11\u001b[0m\u001b[0;34m:\u001b[0m\u001b[0;36m14\u001b[0m\u001b[0;34m]\u001b[0m\u001b[0;34m,\u001b[0m \u001b[0mgalaxy_segs_joined\u001b[0m\u001b[0;34m[\u001b[0m\u001b[0;34m:\u001b[0m\u001b[0;34m,\u001b[0m\u001b[0;36m18\u001b[0m\u001b[0;34m:\u001b[0m\u001b[0;36m20\u001b[0m\u001b[0;34m]\u001b[0m\u001b[0;34m,\u001b[0m \u001b[0msegs_pos\u001b[0m\u001b[0;34m)\u001b[0m\u001b[0;34m\u001b[0m\u001b[0m\n\u001b[0m\u001b[1;32m      3\u001b[0m \u001b[0;34m\u001b[0m\u001b[0m\n\u001b[1;32m      4\u001b[0m \u001b[0;31m# Add: 20:cos(theta) 21:sin(theta) 22:(theta)\u001b[0m\u001b[0;34m\u001b[0m\u001b[0;34m\u001b[0m\u001b[0m\n\u001b[1;32m      5\u001b[0m \u001b[0mgalaxy_segs_data\u001b[0m \u001b[0;34m=\u001b[0m \u001b[0mnp\u001b[0m\u001b[0;34m.\u001b[0m\u001b[0mconcatenate\u001b[0m\u001b[0;34m(\u001b[0m\u001b[0;34m(\u001b[0m\u001b[0mgalaxy_segs_joined\u001b[0m\u001b[0;34m[\u001b[0m\u001b[0;34m:\u001b[0m\u001b[0;34m,\u001b[0m\u001b[0;34m:\u001b[0m\u001b[0;34m]\u001b[0m\u001b[0;34m,\u001b[0m \u001b[0mgal_align_segs\u001b[0m\u001b[0;34m[\u001b[0m\u001b[0;34m:\u001b[0m\u001b[0;34m,\u001b[0m\u001b[0;36m2\u001b[0m\u001b[0;34m:\u001b[0m\u001b[0;36m5\u001b[0m\u001b[0;34m]\u001b[0m\u001b[0;34m)\u001b[0m\u001b[0;34m,\u001b[0m \u001b[0maxis\u001b[0m\u001b[0;34m=\u001b[0m\u001b[0;36m1\u001b[0m\u001b[0;34m)\u001b[0m\u001b[0;34m\u001b[0m\u001b[0m\n",
      "\u001b[0;31mNameError\u001b[0m: name 'galaxy_segs_joined' is not defined"
     ]
    }
   ],
   "source": [
    "# create matrix for align function input\n",
    "gal_align_segs = df.align_function(galaxy_segs_joined[:,11:14], galaxy_segs_joined[:,18:20], segs_pos)\n",
    "\n",
    "# Add: 20:cos(theta) 21:sin(theta) 22:(theta)\n",
    "galaxy_segs_data = np.concatenate((galaxy_segs_joined[:,:], gal_align_segs[:,2:5]), axis=1)"
   ]
  },
  {
   "cell_type": "code",
   "execution_count": 62,
   "metadata": {
    "collapsed": false
   },
   "outputs": [],
   "source": [
    "# 0:HaloNumber, 1:SubhaloNumber, 2:StellarMass, 3:GasMass, 4:DarkMatterMass, 5-7:SubhaloPosition x,y,z\n",
    "# 8-10:CoM Velocity x, CoM Velocity y, CoM Velocity z, 11-13:AngularMomentum x, AngularMomentum y, AngularMomentum z, \n",
    "# 14:Kappa, 15:Flatness, 16:Ellip, 17:Lambda 18: Index of nearest segment, 19:absolute distance to filament, \n",
    "# 20:cos(theta) 21:sin(theta) 22:(theta) 23-25: nearest segement coordinates 26: Index of nearest critical point, \n",
    "# 27: absolute distanceto crit., 28-30: nearest critical point coordinates, 31: bool in cluster, 32: bool in filament\n",
    "galaxy_data = np.zeros(((galaxy_segs_data.shape[0]), 33))\n",
    "\n",
    "for i in range (0,galaxy_segs_data.shape[0]):\n",
    "    galaxy_data[i,0:23] = galaxy_segs_data[i,:]\n",
    "    galaxy_data[i,23:26] = segs_pos[int(galaxy_data[i,18]),:]\n",
    "    galaxy_data[i,26:28] = galaxy_crits_distance_mat[i,:]\n",
    "    galaxy_data[i,28:31] = crits_pos[int(galaxy_data[i,26]),:]\n",
    "\n",
    "galaxy_data_crits_mask = (galaxy_data[:,27] < 2000)\n",
    "galaxy_data_segs_mask = (galaxy_data[:,19] < 700)\n",
    "    \n",
    "for i in range (0, galaxy_segs_data.shape[0]):\n",
    "    if (galaxy_data_crits_mask[i] == True):\n",
    "        galaxy_data[i,31] = 1\n",
    "        galaxy_data[i,32] = 0\n",
    "    elif(galaxy_data_segs_mask[i] == True):\n",
    "        galaxy_data[i,31] = 0\n",
    "        galaxy_data[i,32] = 1\n",
    "    else:\n",
    "        galaxy_data[i,31] = 0\n",
    "        galaxy_data[i,32] = 0"
   ]
  },
  {
   "cell_type": "code",
   "execution_count": 63,
   "metadata": {
    "collapsed": true
   },
   "outputs": [],
   "source": [
    "np.savetxt('./data/galaxy_data_full_sim_v3.txt', galaxy_data, delimiter =' ', \n",
    "           header = '0:HaloNumber, 1:SubhaloNumber, 2:StellarMass, 3:GasMass, 4:DarkMatterMass, 5-7:SubhaloPosition x, SubhaloPosition y, SubhaloPosition z, 8-10:CoM Velocity x, CoM Velocity y, CoM Velocity z, 11-13:AngularMomentum x, AngularMomentum y, AngularMomentum z, 14:Kappa, 15:Flatness, 16:Ellip, 17:Lambda, 18: Index of nearest segment, 19:absolute distance from galaxy to nearest segment point 20:dot product of angular momentum vector with segment vector 21-23: nearest segement coordinates 24: Index of nearest critical point, 25: absolute distance from galaxy to nearest critical point 26-28: nearest critical point coordinates, 29: bool in cluster, 30: bool in filament'\n",
    "           )"
   ]
  },
  {
   "cell_type": "code",
   "execution_count": 38,
   "metadata": {
    "collapsed": false
   },
   "outputs": [],
   "source": [
    "# Now do same thing for halo data:\n",
    "\n",
    "# 0-2: CM position, 3: halo mass, 4: index of nearest filament point, 5: filament absolute distance\n",
    "# 6: index of nearest crit point, 7: crit absolute distance, 8: bool in cluster, 9: bool in filament\n",
    "\n",
    "halo_data = np.zeros((halo_positions.shape[0], 10))\n",
    "halo_data[:,0:3] = halo_positions\n",
    "halo_data[:,3] = halo_mass\n",
    "halo_data = halo_data[halo_data[:,3]>=0.5][:,:]"
   ]
  },
  {
   "cell_type": "code",
   "execution_count": 39,
   "metadata": {
    "collapsed": true
   },
   "outputs": [
    {
     "name": "stdout",
     "output_type": "stream",
     "text": [
      "distance_function done with 0.0 %\n",
      "distance_function done with 10.0 %\n",
      "distance_function done with 20.0 %\n",
      "distance_function done with 30.0 %\n",
      "distance_function done with 40.0 %\n",
      "distance_function done with 50.0 %\n",
      "distance_function done with 60.0 %\n",
      "distance_function done with 70.0 %\n",
      "distance_function done with 80.0 %\n",
      "distance_function done with 90.0 %\n",
      "distance_function done with 100.0 %\n"
     ]
    }
   ],
   "source": [
    "halo_segs_distance_mat = df.distance_function(halo_data[halo_data[:,3]>=0.5][:,0:3], segs_pos)"
   ]
  },
  {
   "cell_type": "code",
   "execution_count": 40,
   "metadata": {
    "collapsed": true
   },
   "outputs": [
    {
     "name": "stdout",
     "output_type": "stream",
     "text": [
      "distance_function done with 0.0 %\n",
      "distance_function done with 10.0 %\n",
      "distance_function done with 20.0 %\n",
      "distance_function done with 30.0 %\n",
      "distance_function done with 40.0 %\n",
      "distance_function done with 50.0 %\n",
      "distance_function done with 60.0 %\n",
      "distance_function done with 70.0 %\n",
      "distance_function done with 80.0 %\n",
      "distance_function done with 90.0 %\n",
      "distance_function done with 100.0 %\n"
     ]
    }
   ],
   "source": [
    "halo_crits_distance_mat = df.distance_function(halo_data[halo_data[:,3]>=0.5][:,0:3], crits_pos)"
   ]
  },
  {
   "cell_type": "code",
   "execution_count": 41,
   "metadata": {
    "collapsed": false
   },
   "outputs": [],
   "source": [
    "halo_data[:,4:6] = halo_segs_distance_mat\n",
    "halo_data[:,6:8] = halo_crits_distance_mat\n",
    "\n",
    "halo_data_crits_mask = (halo_data[:,7] < 2000)\n",
    "halo_data_segs_mask = (halo_data[:,5] < 700)\n",
    "    \n",
    "for i in range (0, halo_data.shape[0]):\n",
    "    if (halo_data_crits_mask[i] == True):\n",
    "        halo_data[i,8] = 1\n",
    "        halo_data[i,9] = 0\n",
    "    elif(halo_data_segs_mask[i] == True):\n",
    "        halo_data[i,8] = 0\n",
    "        halo_data[i,9] = 1\n",
    "    else:\n",
    "        halo_data[i,8] = 0\n",
    "        halo_data[i,9] = 0\n"
   ]
  },
  {
   "cell_type": "code",
   "execution_count": 42,
   "metadata": {
    "collapsed": true
   },
   "outputs": [],
   "source": [
    "np.savetxt('./data/halo_data_full_sim_v2.txt',\n",
    "           halo_data, header=\"0-2: CM position, 3: halo mass, 4: index of nearest filament point, 5: filament absolute distance, 6: index of nearest crit point, 7: crit absolute distance, 8: bool in cluster, 9: bool in filament\")"
   ]
  },
  {
   "cell_type": "code",
   "execution_count": null,
   "metadata": {
    "collapsed": true
   },
   "outputs": [],
   "source": []
  }
 ],
 "metadata": {
  "kernelspec": {
   "display_name": "Python 3",
   "language": "python",
   "name": "python3"
  },
  "language_info": {
   "codemirror_mode": {
    "name": "ipython",
    "version": 3
   },
   "file_extension": ".py",
   "mimetype": "text/x-python",
   "name": "python",
   "nbconvert_exporter": "python",
   "pygments_lexer": "ipython3",
   "version": "3.6.0"
  }
 },
 "nbformat": 4,
 "nbformat_minor": 0
}
