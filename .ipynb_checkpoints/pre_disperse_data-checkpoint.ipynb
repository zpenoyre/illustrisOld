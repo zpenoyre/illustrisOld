{
 "cells": [
  {
   "cell_type": "code",
   "execution_count": 6,
   "metadata": {
    "collapsed": false,
    "scrolled": true
   },
   "outputs": [
    {
     "name": "stderr",
     "output_type": "stream",
     "text": [
      "/Users/alex/anaconda/lib/python2.7/site-packages/matplotlib/__init__.py:1350: UserWarning:  This call to matplotlib.use() has no effect\n",
      "because the backend has already been chosen;\n",
      "matplotlib.use() must be called *before* pylab, matplotlib.pyplot,\n",
      "or matplotlib.backends is imported for the first time.\n",
      "\n",
      "  warnings.warn(_use_error_msg)\n"
     ]
    }
   ],
   "source": [
    "# Import libaries and illustris library\n",
    "import numpy as np\n",
    "import illustris_python as il\n",
    "import matplotlib\n",
    "matplotlib.use('svg')\n",
    "import matplotlib.pyplot as plt\n",
    "%matplotlib inline\n",
    "import random"
   ]
  },
  {
   "cell_type": "code",
   "execution_count": 7,
   "metadata": {
    "collapsed": true
   },
   "outputs": [],
   "source": [
    "# Import Illustris data, specifying file path and snap\n",
    "basePath = '/Users/alex/Illustris/Illustris-1'\n",
    "snap = 135\n",
    "# Load data to be used\n",
    "halo_fields = ['GroupPos','GroupMass']\n",
    "halo_data = il.groupcat.loadHalos(basePath,135,fields=halo_fields)\n",
    "\n",
    "subhalo_fields = ['SubhaloCM', 'SubhaloMass']\n",
    "subhalo_data = il.groupcat.loadSubhalos(basePath,135,fields=subhalo_fields)"
   ]
  },
  {
   "cell_type": "code",
   "execution_count": 16,
   "metadata": {
    "collapsed": false
   },
   "outputs": [
    {
     "name": "stdout",
     "output_type": "stream",
     "text": [
      "((4366546, 4), (7713601, 4))\n"
     ]
    }
   ],
   "source": [
    "# Define data fields, load these data fields into arrays and concatenate arrays into simple matrix\n",
    "subhalo_data_joined = np.concatenate((subhalo_data['SubhaloCM'], \n",
    "                                      np.expand_dims(subhalo_data['SubhaloMass'], 0).T), axis=1)\n",
    "halo_data_joined = np.concatenate((halo_data['GroupPos'], \n",
    "                                      np.expand_dims(halo_data['GroupMass'], 0).T), axis=1)\n",
    "print(subhalo_data_joined.shape, halo_data_joined.shape)"
   ]
  },
  {
   "cell_type": "code",
   "execution_count": 35,
   "metadata": {
    "collapsed": false
   },
   "outputs": [],
   "source": [
    "#cut of data accorging to masses of halos/subhalos above 5*10^-2 10^10 Mass solar\n",
    "subhalo_data_joined_masscut_e8 = subhalo_data_joined[subhalo_data_joined[:,3]>5e-2]\n",
    "subhalo_data_joined_masscut_e9 = subhalo_data_joined[subhalo_data_joined[:,3]> 5e-1]\n",
    "subhalo_data_joined_masscut_e10 = subhalo_data_joined[subhalo_data_joined[:,3]> 5e0]\n",
    "\n",
    "halo_data_joined_masscut = halo_data_joined[halo_data_joined[:,3]>1e-1]"
   ]
  },
  {
   "cell_type": "code",
   "execution_count": 41,
   "metadata": {
    "collapsed": false
   },
   "outputs": [],
   "source": [
    "# Save data in survey_ascii format, to be used with DisPerSE\n",
    "np.savetxt(\"/Users/alex/Documents/Research/Astro/vm_shared_folder_v2/il_1_snap_135_posdata_subhalo_mass_cutoff_e8.txt\",\n",
    "           subhalo_data_joined_masscut_e8[:,0:3], header=\"px,py,pz\", fmt='%f,%f,%f')\n",
    "\n",
    "np.savetxt(\"/Users/alex/Documents/Research/Astro/vm_shared_folder_v2/il_1_snap_135_posdata_subhalo_mass_cutoff_e9.txt\",\n",
    "           subhalo_data_joined_masscut_e9[:,0:3], header=\"px,py,pz\", fmt='%f,%f,%f')\n",
    "\n",
    "np.savetxt(\"/Users/alex/Documents/Research/Astro/vm_shared_folder_v2/il_1_snap_135_posdata_subhalo_mass_cutoff_e10.txt\",\n",
    "           subhalo_data_joined_masscut_e10[:,0:3], header=\"px,py,pz\", fmt='%f,%f,%f')\n",
    "\n",
    "np.savetxt(\"/Users/alex/Documents/Research/Astro/vm_shared_folder_v2/il_1_snap_135_posdata_halo_mass_cutoff.txt\",\n",
    "           halo_data_joined_masscut, header=\"px,py,pz,mass\", fmt='%f,%f,%f,%f')"
   ]
  },
  {
   "cell_type": "code",
   "execution_count": null,
   "metadata": {
    "collapsed": true
   },
   "outputs": [],
   "source": []
  }
 ],
 "metadata": {
  "kernelspec": {
   "display_name": "Python 2",
   "language": "python",
   "name": "python2"
  },
  "language_info": {
   "codemirror_mode": {
    "name": "ipython",
    "version": 2
   },
   "file_extension": ".py",
   "mimetype": "text/x-python",
   "name": "python",
   "nbconvert_exporter": "python",
   "pygments_lexer": "ipython2",
   "version": "2.7.11"
  }
 },
 "nbformat": 4,
 "nbformat_minor": 0
}
